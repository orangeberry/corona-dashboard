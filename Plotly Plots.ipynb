{
 "cells": [
  {
   "cell_type": "code",
   "execution_count": 15,
   "id": "major-quebec",
   "metadata": {},
   "outputs": [
    {
     "data": {
      "application/vnd.plotly.v1+json": {
       "config": {
        "plotlyServerURL": "https://plot.ly"
       },
       "data": [
        {
         "customdata": [
          [
           26186781,
           441324,
           0,
           "US"
          ],
          [
           10757610,
           154392,
           10434983,
           "India"
          ],
          [
           9204731,
           224504,
           8176373,
           "Brazil"
          ],
          [
           3828183,
           106367,
           9652,
           "United Kingdom"
          ],
          [
           3808348,
           72029,
           3264611,
           "Russia"
          ],
          [
           3255920,
           76201,
           230612,
           "France"
          ],
          [
           2743119,
           58319,
           150376,
           "Spain"
          ],
          [
           2553032,
           88516,
           2010548,
           "Italy"
          ],
          [
           2477463,
           25993,
           2362415,
           "Turkey"
          ],
          [
           2225659,
           57163,
           1940046,
           "Germany"
          ],
          [
           2094884,
           53983,
           1938322,
           "Colombia"
          ],
          [
           1927239,
           47974,
           1721650,
           "Argentina"
          ],
          [
           1864260,
           158536,
           1412393,
           "Mexico"
          ],
          [
           1513385,
           37180,
           1270467,
           "Poland"
          ],
          [
           1453761,
           44164,
           1299620,
           "South Africa"
          ],
          [
           1417999,
           57959,
           1210051,
           "Iran"
          ],
          [
           1261546,
           23860,
           1054177,
           "Ukraine"
          ],
          [
           1138239,
           41026,
           1052050,
           "Peru"
          ],
          [
           1078314,
           29998,
           873221,
           "Indonesia"
          ],
          [
           992075,
           14108,
           12910,
           "Netherlands"
          ],
          [
           984774,
           16308,
           871917,
           "Czechia"
          ],
          [
           782467,
           20005,
           710699,
           "Canada"
          ],
          [
           728743,
           18335,
           674594,
           "Romania"
          ],
          [
           727109,
           18452,
           681981,
           "Chile"
          ],
          [
           720516,
           12482,
           526411,
           "Portugal"
          ],
          [
           710153,
           21092,
           0,
           "Belgium"
          ],
          [
           643435,
           4796,
           572511,
           "Israel"
          ],
          [
           619636,
           13047,
           592129,
           "Iraq"
          ],
          [
           566957,
           11591,
           0,
           "Sweden"
          ],
          [
           546428,
           11683,
           501252,
           "Pakistan"
          ],
          [
           535139,
           8127,
           479744,
           "Bangladesh"
          ],
          [
           525618,
           10749,
           487551,
           "Philippines"
          ],
          [
           521320,
           9381,
           317600,
           "Switzerland"
          ],
          [
           471157,
           8275,
           449160,
           "Morocco"
          ],
          [
           414398,
           7721,
           392497,
           "Austria"
          ],
          [
           395263,
           4020,
           0,
           "Serbia"
          ],
          [
           390166,
           5753,
           325436,
           "Japan"
          ],
          [
           368074,
           6375,
           359573,
           "Saudi Arabia"
          ],
          [
           367586,
           12524,
           262968,
           "Hungary"
          ],
          [
           326855,
           4316,
           314581,
           "Jordan"
          ],
          [
           320379,
           5270,
           276417,
           "Panama"
          ],
          [
           303609,
           850,
           276958,
           "United Arab Emirates"
          ],
          [
           301052,
           3082,
           180877,
           "Lebanon"
          ],
          [
           270959,
           2029,
           266336,
           "Nepal"
          ],
          [
           258111,
           3178,
           249028,
           "Georgia"
          ],
          [
           250828,
           14859,
           209814,
           "Ecuador"
          ],
          [
           249913,
           4642,
           216052,
           "Slovakia"
          ],
          [
           248336,
           1718,
           235838,
           "Belarus"
          ],
          [
           235844,
           3046,
           204668,
           "Kazakhstan"
          ],
          [
           232426,
           5027,
           224476,
           "Croatia"
          ],
          [
           230219,
           3132,
           223315,
           "Azerbaijan"
          ],
          [
           218748,
           9045,
           187052,
           "Bulgaria"
          ],
          [
           216835,
           10379,
           159222,
           "Bolivia"
          ],
          [
           214959,
           760,
           166049,
           "Malaysia"
          ],
          [
           214060,
           2666,
           157533,
           "Dominican Republic"
          ],
          [
           208885,
           6754,
           157446,
           "Tunisia"
          ],
          [
           199156,
           2126,
           187996,
           "Denmark"
          ],
          [
           196547,
           3307,
           23364,
           "Ireland"
          ],
          [
           193276,
           2604,
           151952,
           "Costa Rica"
          ],
          [
           182539,
           2803,
           129175,
           "Lithuania"
          ],
          [
           167026,
           3080,
           157519,
           "Armenia"
          ],
          [
           166473,
           3503,
           145722,
           "Slovenia"
          ],
          [
           165951,
           9316,
           129636,
           "Egypt"
          ],
          [
           165257,
           959,
           157931,
           "Kuwait"
          ],
          [
           159804,
           3438,
           150090,
           "Moldova"
          ],
          [
           159504,
           5643,
           144595,
           "Guatemala"
          ],
          [
           158962,
           1833,
           148993,
           "West Bank and Gaza"
          ],
          [
           156957,
           5796,
           93764,
           "Greece"
          ],
          [
           151335,
           248,
           145806,
           "Qatar"
          ],
          [
           147843,
           3610,
           60873,
           "Honduras"
          ],
          [
           140145,
           3131,
           125072,
           "Burma"
          ],
          [
           137650,
           2093,
           122862,
           "Ethiopia"
          ],
          [
           134326,
           1529,
           126854,
           "Oman"
          ],
          [
           133227,
           2718,
           108426,
           "Paraguay"
          ],
          [
           131242,
           1586,
           104989,
           "Nigeria"
          ],
          [
           126927,
           1189,
           118887,
           "Venezuela"
          ],
          [
           121497,
           4679,
           94604,
           "Bosnia and Herzegovina"
          ],
          [
           118631,
           1877,
           98706,
           "Libya"
          ],
          [
           107339,
           2891,
           73344,
           "Algeria"
          ],
          [
           103057,
           375,
           98599,
           "Bahrain"
          ],
          [
           100773,
           1763,
           83907,
           "Kenya"
          ],
          [
           100063,
           4817,
           92779,
           "China"
          ],
          [
           92693,
           2855,
           81681,
           "North Macedonia"
          ],
          [
           84588,
           1412,
           80987,
           "Kyrgyzstan"
          ],
          [
           78711,
           621,
           77191,
           "Uzbekistan"
          ],
          [
           78508,
           1425,
           68309,
           "Korea, South"
          ],
          [
           78127,
           1380,
           47424,
           "Albania"
          ],
          [
           67010,
           416,
           61236,
           "Ghana"
          ],
          [
           66241,
           1195,
           54686,
           "Latvia"
          ],
          [
           64157,
           316,
           57159,
           "Sri Lanka"
          ],
          [
           62966,
           564,
           17998,
           "Norway"
          ],
          [
           61659,
           805,
           53527,
           "Montenegro"
          ],
          [
           60218,
           1498,
           52439,
           "Kosovo"
          ],
          [
           59536,
           29,
           59228,
           "Singapore"
          ],
          [
           55023,
           2400,
           47679,
           "Afghanistan"
          ],
          [
           54966,
           1623,
           48711,
           "El Salvador"
          ],
          [
           54217,
           763,
           48000,
           "Zambia"
          ],
          [
           50388,
           577,
           47615,
           "Luxembourg"
          ],
          [
           45238,
           671,
           31000,
           "Finland"
          ],
          [
           44208,
           419,
           33738,
           "Estonia"
          ],
          [
           41738,
           436,
           34683,
           "Uruguay"
          ],
          [
           39579,
           324,
           14179,
           "Uganda"
          ],
          [
           38654,
           367,
           23955,
           "Mozambique"
          ],
          [
           33944,
           352,
           32378,
           "Namibia"
          ],
          [
           33388,
           1217,
           26044,
           "Zimbabwe"
          ],
          [
           30876,
           199,
           2057,
           "Cyprus"
          ],
          [
           29617,
           462,
           28045,
           "Cameroon"
          ],
          [
           29380,
           1807,
           21410,
           "Sudan"
          ],
          [
           28818,
           909,
           26061,
           "Australia"
          ],
          [
           28399,
           154,
           26007,
           "Cote d'Ivoire"
          ],
          [
           26686,
           214,
           20863,
           "Cuba"
          ],
          [
           26523,
           628,
           21970,
           "Senegal"
          ],
          [
           23963,
           702,
           8615,
           "Malawi"
          ],
          [
           22771,
           671,
           15031,
           "Congo (Kinshasa)"
          ],
          [
           21293,
           134,
           17198,
           "Botswana"
          ],
          [
           19796,
           466,
           18035,
           "Angola"
          ],
          [
           19618,
           77,
           12514,
           "Thailand"
          ],
          [
           19065,
           281,
           18215,
           "Madagascar"
          ],
          [
           17903,
           267,
           14960,
           "Malta"
          ],
          [
           16635,
           422,
           15676,
           "Mauritania"
          ],
          [
           15841,
           52,
           14139,
           "Maldives"
          ],
          [
           15711,
           565,
           10478,
           "Eswatini"
          ],
          [
           15653,
           350,
           12043,
           "Jamaica"
          ],
          [
           15304,
           196,
           10087,
           "Rwanda"
          ],
          [
           14546,
           82,
           14208,
           "Guinea"
          ],
          [
           14070,
           134,
           13144,
           "Cabo Verde"
          ],
          [
           14048,
           921,
           7562,
           "Syria"
          ],
          [
           13308,
           90,
           13218,
           "Tajikistan"
          ],
          [
           11908,
           301,
           11309,
           "Belize"
          ],
          [
           11533,
           245,
           9098,
           "Haiti"
          ],
          [
           10748,
           68,
           10260,
           "Gabon"
          ],
          [
           10682,
           120,
           9253,
           "Burkina Faso"
          ],
          [
           9937,
           101,
           9093,
           "Andorra"
          ],
          [
           8664,
           172,
           2552,
           "Lesotho"
          ],
          [
           8438,
           154,
           7671,
           "Suriname"
          ],
          [
           8174,
           176,
           6771,
           "Bahamas"
          ],
          [
           8091,
           330,
           5945,
           "Mali"
          ],
          [
           7887,
           117,
           5846,
           "Congo (Brazzaville)"
          ],
          [
           7641,
           176,
           6591,
           "Guyana"
          ],
          [
           7564,
           134,
           7168,
           "Trinidad and Tobago"
          ],
          [
           6253,
           169,
           4225,
           "Nicaragua"
          ],
          [
           6002,
           29,
           5930,
           "Iceland"
          ],
          [
           5932,
           63,
           5845,
           "Djibouti"
          ],
          [
           5516,
           86,
           5286,
           "Equatorial Guinea"
          ],
          [
           5074,
           77,
           4268,
           "Togo"
          ],
          [
           4981,
           63,
           4885,
           "Central African Republic"
          ],
          [
           4784,
           130,
           3666,
           "Somalia"
          ],
          [
           4517,
           159,
           3755,
           "Niger"
          ],
          [
           4090,
           128,
           3792,
           "Gambia"
          ],
          [
           3929,
           64,
           3613,
           "South Sudan"
          ],
          [
           3893,
           52,
           3421,
           "Benin"
          ],
          [
           3593,
           79,
           2282,
           "Sierra Leone"
          ],
          [
           3376,
           118,
           2464,
           "Chad"
          ],
          [
           3025,
           67,
           2723,
           "San Marino"
          ],
          [
           2726,
           93,
           1731,
           "Comoros"
          ],
          [
           2634,
           45,
           2427,
           "Guinea-Bissau"
          ],
          [
           2493,
           52,
           2352,
           "Liechtenstein"
          ],
          [
           2304,
           25,
           2208,
           "New Zealand"
          ],
          [
           2135,
           7,
           1594,
           "Eritrea"
          ],
          [
           2121,
           615,
           1426,
           "Yemen"
          ],
          [
           1939,
           84,
           1760,
           "Liberia"
          ],
          [
           1817,
           35,
           1457,
           "Vietnam"
          ],
          [
           1814,
           2,
           1358,
           "Mongolia"
          ],
          [
           1632,
           2,
           773,
           "Burundi"
          ],
          [
           1545,
           14,
           1158,
           "Barbados"
          ],
          [
           1489,
           13,
           1257,
           "Monaco"
          ],
          [
           1257,
           17,
           1023,
           "Sao Tome and Principe"
          ],
          [
           1205,
           4,
           1015,
           "Seychelles"
          ],
          [
           1195,
           13,
           618,
           "Saint Lucia"
          ],
          [
           911,
           8,
           830,
           "Taiwan*"
          ],
          [
           901,
           2,
           251,
           "Saint Vincent and the Grenadines"
          ],
          [
           859,
           1,
           814,
           "Bhutan"
          ],
          [
           851,
           9,
           812,
           "Papua New Guinea"
          ],
          [
           712,
           13,
           699,
           "Diamond Princess"
          ],
          [
           569,
           10,
           528,
           "Mauritius"
          ],
          [
           509,
           21,
           183,
           "Tanzania"
          ],
          [
           466,
           0,
           443,
           "Cambodia"
          ],
          [
           234,
           7,
           177,
           "Antigua and Barbuda"
          ],
          [
           180,
           3,
           170,
           "Brunei"
          ],
          [
           148,
           1,
           142,
           "Grenada"
          ],
          [
           117,
           0,
           106,
           "Dominica"
          ],
          [
           70,
           0,
           55,
           "Timor-Leste"
          ],
          [
           55,
           2,
           53,
           "Fiji"
          ],
          [
           44,
           0,
           41,
           "Laos"
          ],
          [
           37,
           0,
           35,
           "Saint Kitts and Nevis"
          ],
          [
           27,
           0,
           15,
           "Holy See"
          ],
          [
           17,
           0,
           10,
           "Solomon Islands"
          ],
          [
           9,
           2,
           7,
           "MS Zaandam"
          ],
          [
           4,
           0,
           4,
           "Marshall Islands"
          ],
          [
           2,
           0,
           2,
           "Samoa"
          ],
          [
           1,
           0,
           1,
           "Vanuatu"
          ],
          [
           1,
           0,
           1,
           "Micronesia"
          ]
         ],
         "geo": "geo",
         "hovertemplate": "<b>%{hovertext}</b><br><br>Confirmed=%{marker.color:,2f}<br>Deaths=%{customdata[1]:,2f}<br>Recovered=%{customdata[2]:,2f}<extra></extra>",
         "hovertext": [
          "US",
          "India",
          "Brazil",
          "United Kingdom",
          "Russia",
          "France",
          "Spain",
          "Italy",
          "Turkey",
          "Germany",
          "Colombia",
          "Argentina",
          "Mexico",
          "Poland",
          "South Africa",
          "Iran",
          "Ukraine",
          "Peru",
          "Indonesia",
          "Netherlands",
          "Czechia",
          "Canada",
          "Romania",
          "Chile",
          "Portugal",
          "Belgium",
          "Israel",
          "Iraq",
          "Sweden",
          "Pakistan",
          "Bangladesh",
          "Philippines",
          "Switzerland",
          "Morocco",
          "Austria",
          "Serbia",
          "Japan",
          "Saudi Arabia",
          "Hungary",
          "Jordan",
          "Panama",
          "United Arab Emirates",
          "Lebanon",
          "Nepal",
          "Georgia",
          "Ecuador",
          "Slovakia",
          "Belarus",
          "Kazakhstan",
          "Croatia",
          "Azerbaijan",
          "Bulgaria",
          "Bolivia",
          "Malaysia",
          "Dominican Republic",
          "Tunisia",
          "Denmark",
          "Ireland",
          "Costa Rica",
          "Lithuania",
          "Armenia",
          "Slovenia",
          "Egypt",
          "Kuwait",
          "Moldova",
          "Guatemala",
          "West Bank and Gaza",
          "Greece",
          "Qatar",
          "Honduras",
          "Burma",
          "Ethiopia",
          "Oman",
          "Paraguay",
          "Nigeria",
          "Venezuela",
          "Bosnia and Herzegovina",
          "Libya",
          "Algeria",
          "Bahrain",
          "Kenya",
          "China",
          "North Macedonia",
          "Kyrgyzstan",
          "Uzbekistan",
          "Korea, South",
          "Albania",
          "Ghana",
          "Latvia",
          "Sri Lanka",
          "Norway",
          "Montenegro",
          "Kosovo",
          "Singapore",
          "Afghanistan",
          "El Salvador",
          "Zambia",
          "Luxembourg",
          "Finland",
          "Estonia",
          "Uruguay",
          "Uganda",
          "Mozambique",
          "Namibia",
          "Zimbabwe",
          "Cyprus",
          "Cameroon",
          "Sudan",
          "Australia",
          "Cote d'Ivoire",
          "Cuba",
          "Senegal",
          "Malawi",
          "Congo (Kinshasa)",
          "Botswana",
          "Angola",
          "Thailand",
          "Madagascar",
          "Malta",
          "Mauritania",
          "Maldives",
          "Eswatini",
          "Jamaica",
          "Rwanda",
          "Guinea",
          "Cabo Verde",
          "Syria",
          "Tajikistan",
          "Belize",
          "Haiti",
          "Gabon",
          "Burkina Faso",
          "Andorra",
          "Lesotho",
          "Suriname",
          "Bahamas",
          "Mali",
          "Congo (Brazzaville)",
          "Guyana",
          "Trinidad and Tobago",
          "Nicaragua",
          "Iceland",
          "Djibouti",
          "Equatorial Guinea",
          "Togo",
          "Central African Republic",
          "Somalia",
          "Niger",
          "Gambia",
          "South Sudan",
          "Benin",
          "Sierra Leone",
          "Chad",
          "San Marino",
          "Comoros",
          "Guinea-Bissau",
          "Liechtenstein",
          "New Zealand",
          "Eritrea",
          "Yemen",
          "Liberia",
          "Vietnam",
          "Mongolia",
          "Burundi",
          "Barbados",
          "Monaco",
          "Sao Tome and Principe",
          "Seychelles",
          "Saint Lucia",
          "Taiwan*",
          "Saint Vincent and the Grenadines",
          "Bhutan",
          "Papua New Guinea",
          "Diamond Princess",
          "Mauritius",
          "Tanzania",
          "Cambodia",
          "Antigua and Barbuda",
          "Brunei",
          "Grenada",
          "Dominica",
          "Timor-Leste",
          "Fiji",
          "Laos",
          "Saint Kitts and Nevis",
          "Holy See",
          "Solomon Islands",
          "MS Zaandam",
          "Marshall Islands",
          "Samoa",
          "Vanuatu",
          "Micronesia"
         ],
         "legendgroup": "",
         "locationmode": "country names",
         "locations": [
          "US",
          "India",
          "Brazil",
          "United Kingdom",
          "Russia",
          "France",
          "Spain",
          "Italy",
          "Turkey",
          "Germany",
          "Colombia",
          "Argentina",
          "Mexico",
          "Poland",
          "South Africa",
          "Iran",
          "Ukraine",
          "Peru",
          "Indonesia",
          "Netherlands",
          "Czechia",
          "Canada",
          "Romania",
          "Chile",
          "Portugal",
          "Belgium",
          "Israel",
          "Iraq",
          "Sweden",
          "Pakistan",
          "Bangladesh",
          "Philippines",
          "Switzerland",
          "Morocco",
          "Austria",
          "Serbia",
          "Japan",
          "Saudi Arabia",
          "Hungary",
          "Jordan",
          "Panama",
          "United Arab Emirates",
          "Lebanon",
          "Nepal",
          "Georgia",
          "Ecuador",
          "Slovakia",
          "Belarus",
          "Kazakhstan",
          "Croatia",
          "Azerbaijan",
          "Bulgaria",
          "Bolivia",
          "Malaysia",
          "Dominican Republic",
          "Tunisia",
          "Denmark",
          "Ireland",
          "Costa Rica",
          "Lithuania",
          "Armenia",
          "Slovenia",
          "Egypt",
          "Kuwait",
          "Moldova",
          "Guatemala",
          "West Bank and Gaza",
          "Greece",
          "Qatar",
          "Honduras",
          "Burma",
          "Ethiopia",
          "Oman",
          "Paraguay",
          "Nigeria",
          "Venezuela",
          "Bosnia and Herzegovina",
          "Libya",
          "Algeria",
          "Bahrain",
          "Kenya",
          "China",
          "North Macedonia",
          "Kyrgyzstan",
          "Uzbekistan",
          "Korea, South",
          "Albania",
          "Ghana",
          "Latvia",
          "Sri Lanka",
          "Norway",
          "Montenegro",
          "Kosovo",
          "Singapore",
          "Afghanistan",
          "El Salvador",
          "Zambia",
          "Luxembourg",
          "Finland",
          "Estonia",
          "Uruguay",
          "Uganda",
          "Mozambique",
          "Namibia",
          "Zimbabwe",
          "Cyprus",
          "Cameroon",
          "Sudan",
          "Australia",
          "Cote d'Ivoire",
          "Cuba",
          "Senegal",
          "Malawi",
          "Congo (Kinshasa)",
          "Botswana",
          "Angola",
          "Thailand",
          "Madagascar",
          "Malta",
          "Mauritania",
          "Maldives",
          "Eswatini",
          "Jamaica",
          "Rwanda",
          "Guinea",
          "Cabo Verde",
          "Syria",
          "Tajikistan",
          "Belize",
          "Haiti",
          "Gabon",
          "Burkina Faso",
          "Andorra",
          "Lesotho",
          "Suriname",
          "Bahamas",
          "Mali",
          "Congo (Brazzaville)",
          "Guyana",
          "Trinidad and Tobago",
          "Nicaragua",
          "Iceland",
          "Djibouti",
          "Equatorial Guinea",
          "Togo",
          "Central African Republic",
          "Somalia",
          "Niger",
          "Gambia",
          "South Sudan",
          "Benin",
          "Sierra Leone",
          "Chad",
          "San Marino",
          "Comoros",
          "Guinea-Bissau",
          "Liechtenstein",
          "New Zealand",
          "Eritrea",
          "Yemen",
          "Liberia",
          "Vietnam",
          "Mongolia",
          "Burundi",
          "Barbados",
          "Monaco",
          "Sao Tome and Principe",
          "Seychelles",
          "Saint Lucia",
          "Taiwan*",
          "Saint Vincent and the Grenadines",
          "Bhutan",
          "Papua New Guinea",
          "Diamond Princess",
          "Mauritius",
          "Tanzania",
          "Cambodia",
          "Antigua and Barbuda",
          "Brunei",
          "Grenada",
          "Dominica",
          "Timor-Leste",
          "Fiji",
          "Laos",
          "Saint Kitts and Nevis",
          "Holy See",
          "Solomon Islands",
          "MS Zaandam",
          "Marshall Islands",
          "Samoa",
          "Vanuatu",
          "Micronesia"
         ],
         "marker": {
          "color": [
           26186781,
           10757610,
           9204731,
           3828183,
           3808348,
           3255920,
           2743119,
           2553032,
           2477463,
           2225659,
           2094884,
           1927239,
           1864260,
           1513385,
           1453761,
           1417999,
           1261546,
           1138239,
           1078314,
           992075,
           984774,
           782467,
           728743,
           727109,
           720516,
           710153,
           643435,
           619636,
           566957,
           546428,
           535139,
           525618,
           521320,
           471157,
           414398,
           395263,
           390166,
           368074,
           367586,
           326855,
           320379,
           303609,
           301052,
           270959,
           258111,
           250828,
           249913,
           248336,
           235844,
           232426,
           230219,
           218748,
           216835,
           214959,
           214060,
           208885,
           199156,
           196547,
           193276,
           182539,
           167026,
           166473,
           165951,
           165257,
           159804,
           159504,
           158962,
           156957,
           151335,
           147843,
           140145,
           137650,
           134326,
           133227,
           131242,
           126927,
           121497,
           118631,
           107339,
           103057,
           100773,
           100063,
           92693,
           84588,
           78711,
           78508,
           78127,
           67010,
           66241,
           64157,
           62966,
           61659,
           60218,
           59536,
           55023,
           54966,
           54217,
           50388,
           45238,
           44208,
           41738,
           39579,
           38654,
           33944,
           33388,
           30876,
           29617,
           29380,
           28818,
           28399,
           26686,
           26523,
           23963,
           22771,
           21293,
           19796,
           19618,
           19065,
           17903,
           16635,
           15841,
           15711,
           15653,
           15304,
           14546,
           14070,
           14048,
           13308,
           11908,
           11533,
           10748,
           10682,
           9937,
           8664,
           8438,
           8174,
           8091,
           7887,
           7641,
           7564,
           6253,
           6002,
           5932,
           5516,
           5074,
           4981,
           4784,
           4517,
           4090,
           3929,
           3893,
           3593,
           3376,
           3025,
           2726,
           2634,
           2493,
           2304,
           2135,
           2121,
           1939,
           1817,
           1814,
           1632,
           1545,
           1489,
           1257,
           1205,
           1195,
           911,
           901,
           859,
           851,
           712,
           569,
           509,
           466,
           234,
           180,
           148,
           117,
           70,
           55,
           44,
           37,
           27,
           17,
           9,
           4,
           2,
           1,
           1
          ],
          "coloraxis": "coloraxis",
          "size": [
           26186781,
           10757610,
           9204731,
           3828183,
           3808348,
           3255920,
           2743119,
           2553032,
           2477463,
           2225659,
           2094884,
           1927239,
           1864260,
           1513385,
           1453761,
           1417999,
           1261546,
           1138239,
           1078314,
           992075,
           984774,
           782467,
           728743,
           727109,
           720516,
           710153,
           643435,
           619636,
           566957,
           546428,
           535139,
           525618,
           521320,
           471157,
           414398,
           395263,
           390166,
           368074,
           367586,
           326855,
           320379,
           303609,
           301052,
           270959,
           258111,
           250828,
           249913,
           248336,
           235844,
           232426,
           230219,
           218748,
           216835,
           214959,
           214060,
           208885,
           199156,
           196547,
           193276,
           182539,
           167026,
           166473,
           165951,
           165257,
           159804,
           159504,
           158962,
           156957,
           151335,
           147843,
           140145,
           137650,
           134326,
           133227,
           131242,
           126927,
           121497,
           118631,
           107339,
           103057,
           100773,
           100063,
           92693,
           84588,
           78711,
           78508,
           78127,
           67010,
           66241,
           64157,
           62966,
           61659,
           60218,
           59536,
           55023,
           54966,
           54217,
           50388,
           45238,
           44208,
           41738,
           39579,
           38654,
           33944,
           33388,
           30876,
           29617,
           29380,
           28818,
           28399,
           26686,
           26523,
           23963,
           22771,
           21293,
           19796,
           19618,
           19065,
           17903,
           16635,
           15841,
           15711,
           15653,
           15304,
           14546,
           14070,
           14048,
           13308,
           11908,
           11533,
           10748,
           10682,
           9937,
           8664,
           8438,
           8174,
           8091,
           7887,
           7641,
           7564,
           6253,
           6002,
           5932,
           5516,
           5074,
           4981,
           4784,
           4517,
           4090,
           3929,
           3893,
           3593,
           3376,
           3025,
           2726,
           2634,
           2493,
           2304,
           2135,
           2121,
           1939,
           1817,
           1814,
           1632,
           1545,
           1489,
           1257,
           1205,
           1195,
           911,
           901,
           859,
           851,
           712,
           569,
           509,
           466,
           234,
           180,
           148,
           117,
           70,
           55,
           44,
           37,
           27,
           17,
           9,
           4,
           2,
           1,
           1
          ],
          "sizemode": "area",
          "sizeref": 21376.964081632654,
          "symbol": "circle"
         },
         "mode": "markers",
         "name": "",
         "showlegend": false,
         "type": "scattergeo"
        }
       ],
       "layout": {
        "coloraxis": {
         "colorbar": {
          "title": {
           "text": "Confirmed"
          }
         },
         "colorscale": [
          [
           0,
           "#0d0887"
          ],
          [
           0.1111111111111111,
           "#46039f"
          ],
          [
           0.2222222222222222,
           "#7201a8"
          ],
          [
           0.3333333333333333,
           "#9c179e"
          ],
          [
           0.4444444444444444,
           "#bd3786"
          ],
          [
           0.5555555555555556,
           "#d8576b"
          ],
          [
           0.6666666666666666,
           "#ed7953"
          ],
          [
           0.7777777777777778,
           "#fb9f3a"
          ],
          [
           0.8888888888888888,
           "#fdca26"
          ],
          [
           1,
           "#f0f921"
          ]
         ]
        },
        "geo": {
         "center": {},
         "domain": {
          "x": [
           0,
           1
          ],
          "y": [
           0,
           1
          ]
         }
        },
        "legend": {
         "itemsizing": "constant",
         "tracegroupgap": 0
        },
        "margin": {
         "t": 60
        },
        "template": {
         "data": {
          "bar": [
           {
            "error_x": {
             "color": "#f2f5fa"
            },
            "error_y": {
             "color": "#f2f5fa"
            },
            "marker": {
             "line": {
              "color": "rgb(17,17,17)",
              "width": 0.5
             }
            },
            "type": "bar"
           }
          ],
          "barpolar": [
           {
            "marker": {
             "line": {
              "color": "rgb(17,17,17)",
              "width": 0.5
             }
            },
            "type": "barpolar"
           }
          ],
          "carpet": [
           {
            "aaxis": {
             "endlinecolor": "#A2B1C6",
             "gridcolor": "#506784",
             "linecolor": "#506784",
             "minorgridcolor": "#506784",
             "startlinecolor": "#A2B1C6"
            },
            "baxis": {
             "endlinecolor": "#A2B1C6",
             "gridcolor": "#506784",
             "linecolor": "#506784",
             "minorgridcolor": "#506784",
             "startlinecolor": "#A2B1C6"
            },
            "type": "carpet"
           }
          ],
          "choropleth": [
           {
            "colorbar": {
             "outlinewidth": 0,
             "ticks": ""
            },
            "type": "choropleth"
           }
          ],
          "contour": [
           {
            "colorbar": {
             "outlinewidth": 0,
             "ticks": ""
            },
            "colorscale": [
             [
              0,
              "#0d0887"
             ],
             [
              0.1111111111111111,
              "#46039f"
             ],
             [
              0.2222222222222222,
              "#7201a8"
             ],
             [
              0.3333333333333333,
              "#9c179e"
             ],
             [
              0.4444444444444444,
              "#bd3786"
             ],
             [
              0.5555555555555556,
              "#d8576b"
             ],
             [
              0.6666666666666666,
              "#ed7953"
             ],
             [
              0.7777777777777778,
              "#fb9f3a"
             ],
             [
              0.8888888888888888,
              "#fdca26"
             ],
             [
              1,
              "#f0f921"
             ]
            ],
            "type": "contour"
           }
          ],
          "contourcarpet": [
           {
            "colorbar": {
             "outlinewidth": 0,
             "ticks": ""
            },
            "type": "contourcarpet"
           }
          ],
          "heatmap": [
           {
            "colorbar": {
             "outlinewidth": 0,
             "ticks": ""
            },
            "colorscale": [
             [
              0,
              "#0d0887"
             ],
             [
              0.1111111111111111,
              "#46039f"
             ],
             [
              0.2222222222222222,
              "#7201a8"
             ],
             [
              0.3333333333333333,
              "#9c179e"
             ],
             [
              0.4444444444444444,
              "#bd3786"
             ],
             [
              0.5555555555555556,
              "#d8576b"
             ],
             [
              0.6666666666666666,
              "#ed7953"
             ],
             [
              0.7777777777777778,
              "#fb9f3a"
             ],
             [
              0.8888888888888888,
              "#fdca26"
             ],
             [
              1,
              "#f0f921"
             ]
            ],
            "type": "heatmap"
           }
          ],
          "heatmapgl": [
           {
            "colorbar": {
             "outlinewidth": 0,
             "ticks": ""
            },
            "colorscale": [
             [
              0,
              "#0d0887"
             ],
             [
              0.1111111111111111,
              "#46039f"
             ],
             [
              0.2222222222222222,
              "#7201a8"
             ],
             [
              0.3333333333333333,
              "#9c179e"
             ],
             [
              0.4444444444444444,
              "#bd3786"
             ],
             [
              0.5555555555555556,
              "#d8576b"
             ],
             [
              0.6666666666666666,
              "#ed7953"
             ],
             [
              0.7777777777777778,
              "#fb9f3a"
             ],
             [
              0.8888888888888888,
              "#fdca26"
             ],
             [
              1,
              "#f0f921"
             ]
            ],
            "type": "heatmapgl"
           }
          ],
          "histogram": [
           {
            "marker": {
             "colorbar": {
              "outlinewidth": 0,
              "ticks": ""
             }
            },
            "type": "histogram"
           }
          ],
          "histogram2d": [
           {
            "colorbar": {
             "outlinewidth": 0,
             "ticks": ""
            },
            "colorscale": [
             [
              0,
              "#0d0887"
             ],
             [
              0.1111111111111111,
              "#46039f"
             ],
             [
              0.2222222222222222,
              "#7201a8"
             ],
             [
              0.3333333333333333,
              "#9c179e"
             ],
             [
              0.4444444444444444,
              "#bd3786"
             ],
             [
              0.5555555555555556,
              "#d8576b"
             ],
             [
              0.6666666666666666,
              "#ed7953"
             ],
             [
              0.7777777777777778,
              "#fb9f3a"
             ],
             [
              0.8888888888888888,
              "#fdca26"
             ],
             [
              1,
              "#f0f921"
             ]
            ],
            "type": "histogram2d"
           }
          ],
          "histogram2dcontour": [
           {
            "colorbar": {
             "outlinewidth": 0,
             "ticks": ""
            },
            "colorscale": [
             [
              0,
              "#0d0887"
             ],
             [
              0.1111111111111111,
              "#46039f"
             ],
             [
              0.2222222222222222,
              "#7201a8"
             ],
             [
              0.3333333333333333,
              "#9c179e"
             ],
             [
              0.4444444444444444,
              "#bd3786"
             ],
             [
              0.5555555555555556,
              "#d8576b"
             ],
             [
              0.6666666666666666,
              "#ed7953"
             ],
             [
              0.7777777777777778,
              "#fb9f3a"
             ],
             [
              0.8888888888888888,
              "#fdca26"
             ],
             [
              1,
              "#f0f921"
             ]
            ],
            "type": "histogram2dcontour"
           }
          ],
          "mesh3d": [
           {
            "colorbar": {
             "outlinewidth": 0,
             "ticks": ""
            },
            "type": "mesh3d"
           }
          ],
          "parcoords": [
           {
            "line": {
             "colorbar": {
              "outlinewidth": 0,
              "ticks": ""
             }
            },
            "type": "parcoords"
           }
          ],
          "pie": [
           {
            "automargin": true,
            "type": "pie"
           }
          ],
          "scatter": [
           {
            "marker": {
             "line": {
              "color": "#283442"
             }
            },
            "type": "scatter"
           }
          ],
          "scatter3d": [
           {
            "line": {
             "colorbar": {
              "outlinewidth": 0,
              "ticks": ""
             }
            },
            "marker": {
             "colorbar": {
              "outlinewidth": 0,
              "ticks": ""
             }
            },
            "type": "scatter3d"
           }
          ],
          "scattercarpet": [
           {
            "marker": {
             "colorbar": {
              "outlinewidth": 0,
              "ticks": ""
             }
            },
            "type": "scattercarpet"
           }
          ],
          "scattergeo": [
           {
            "marker": {
             "colorbar": {
              "outlinewidth": 0,
              "ticks": ""
             }
            },
            "type": "scattergeo"
           }
          ],
          "scattergl": [
           {
            "marker": {
             "line": {
              "color": "#283442"
             }
            },
            "type": "scattergl"
           }
          ],
          "scattermapbox": [
           {
            "marker": {
             "colorbar": {
              "outlinewidth": 0,
              "ticks": ""
             }
            },
            "type": "scattermapbox"
           }
          ],
          "scatterpolar": [
           {
            "marker": {
             "colorbar": {
              "outlinewidth": 0,
              "ticks": ""
             }
            },
            "type": "scatterpolar"
           }
          ],
          "scatterpolargl": [
           {
            "marker": {
             "colorbar": {
              "outlinewidth": 0,
              "ticks": ""
             }
            },
            "type": "scatterpolargl"
           }
          ],
          "scatterternary": [
           {
            "marker": {
             "colorbar": {
              "outlinewidth": 0,
              "ticks": ""
             }
            },
            "type": "scatterternary"
           }
          ],
          "surface": [
           {
            "colorbar": {
             "outlinewidth": 0,
             "ticks": ""
            },
            "colorscale": [
             [
              0,
              "#0d0887"
             ],
             [
              0.1111111111111111,
              "#46039f"
             ],
             [
              0.2222222222222222,
              "#7201a8"
             ],
             [
              0.3333333333333333,
              "#9c179e"
             ],
             [
              0.4444444444444444,
              "#bd3786"
             ],
             [
              0.5555555555555556,
              "#d8576b"
             ],
             [
              0.6666666666666666,
              "#ed7953"
             ],
             [
              0.7777777777777778,
              "#fb9f3a"
             ],
             [
              0.8888888888888888,
              "#fdca26"
             ],
             [
              1,
              "#f0f921"
             ]
            ],
            "type": "surface"
           }
          ],
          "table": [
           {
            "cells": {
             "fill": {
              "color": "#506784"
             },
             "line": {
              "color": "rgb(17,17,17)"
             }
            },
            "header": {
             "fill": {
              "color": "#2a3f5f"
             },
             "line": {
              "color": "rgb(17,17,17)"
             }
            },
            "type": "table"
           }
          ]
         },
         "layout": {
          "annotationdefaults": {
           "arrowcolor": "#f2f5fa",
           "arrowhead": 0,
           "arrowwidth": 1
          },
          "autotypenumbers": "strict",
          "coloraxis": {
           "colorbar": {
            "outlinewidth": 0,
            "ticks": ""
           }
          },
          "colorscale": {
           "diverging": [
            [
             0,
             "#8e0152"
            ],
            [
             0.1,
             "#c51b7d"
            ],
            [
             0.2,
             "#de77ae"
            ],
            [
             0.3,
             "#f1b6da"
            ],
            [
             0.4,
             "#fde0ef"
            ],
            [
             0.5,
             "#f7f7f7"
            ],
            [
             0.6,
             "#e6f5d0"
            ],
            [
             0.7,
             "#b8e186"
            ],
            [
             0.8,
             "#7fbc41"
            ],
            [
             0.9,
             "#4d9221"
            ],
            [
             1,
             "#276419"
            ]
           ],
           "sequential": [
            [
             0,
             "#0d0887"
            ],
            [
             0.1111111111111111,
             "#46039f"
            ],
            [
             0.2222222222222222,
             "#7201a8"
            ],
            [
             0.3333333333333333,
             "#9c179e"
            ],
            [
             0.4444444444444444,
             "#bd3786"
            ],
            [
             0.5555555555555556,
             "#d8576b"
            ],
            [
             0.6666666666666666,
             "#ed7953"
            ],
            [
             0.7777777777777778,
             "#fb9f3a"
            ],
            [
             0.8888888888888888,
             "#fdca26"
            ],
            [
             1,
             "#f0f921"
            ]
           ],
           "sequentialminus": [
            [
             0,
             "#0d0887"
            ],
            [
             0.1111111111111111,
             "#46039f"
            ],
            [
             0.2222222222222222,
             "#7201a8"
            ],
            [
             0.3333333333333333,
             "#9c179e"
            ],
            [
             0.4444444444444444,
             "#bd3786"
            ],
            [
             0.5555555555555556,
             "#d8576b"
            ],
            [
             0.6666666666666666,
             "#ed7953"
            ],
            [
             0.7777777777777778,
             "#fb9f3a"
            ],
            [
             0.8888888888888888,
             "#fdca26"
            ],
            [
             1,
             "#f0f921"
            ]
           ]
          },
          "colorway": [
           "#636efa",
           "#EF553B",
           "#00cc96",
           "#ab63fa",
           "#FFA15A",
           "#19d3f3",
           "#FF6692",
           "#B6E880",
           "#FF97FF",
           "#FECB52"
          ],
          "font": {
           "color": "#f2f5fa"
          },
          "geo": {
           "bgcolor": "rgb(17,17,17)",
           "lakecolor": "rgb(17,17,17)",
           "landcolor": "rgb(17,17,17)",
           "showlakes": true,
           "showland": true,
           "subunitcolor": "#506784"
          },
          "hoverlabel": {
           "align": "left"
          },
          "hovermode": "closest",
          "mapbox": {
           "style": "dark"
          },
          "paper_bgcolor": "rgb(17,17,17)",
          "plot_bgcolor": "rgb(17,17,17)",
          "polar": {
           "angularaxis": {
            "gridcolor": "#506784",
            "linecolor": "#506784",
            "ticks": ""
           },
           "bgcolor": "rgb(17,17,17)",
           "radialaxis": {
            "gridcolor": "#506784",
            "linecolor": "#506784",
            "ticks": ""
           }
          },
          "scene": {
           "xaxis": {
            "backgroundcolor": "rgb(17,17,17)",
            "gridcolor": "#506784",
            "gridwidth": 2,
            "linecolor": "#506784",
            "showbackground": true,
            "ticks": "",
            "zerolinecolor": "#C8D4E3"
           },
           "yaxis": {
            "backgroundcolor": "rgb(17,17,17)",
            "gridcolor": "#506784",
            "gridwidth": 2,
            "linecolor": "#506784",
            "showbackground": true,
            "ticks": "",
            "zerolinecolor": "#C8D4E3"
           },
           "zaxis": {
            "backgroundcolor": "rgb(17,17,17)",
            "gridcolor": "#506784",
            "gridwidth": 2,
            "linecolor": "#506784",
            "showbackground": true,
            "ticks": "",
            "zerolinecolor": "#C8D4E3"
           }
          },
          "shapedefaults": {
           "line": {
            "color": "#f2f5fa"
           }
          },
          "sliderdefaults": {
           "bgcolor": "#C8D4E3",
           "bordercolor": "rgb(17,17,17)",
           "borderwidth": 1,
           "tickwidth": 0
          },
          "ternary": {
           "aaxis": {
            "gridcolor": "#506784",
            "linecolor": "#506784",
            "ticks": ""
           },
           "baxis": {
            "gridcolor": "#506784",
            "linecolor": "#506784",
            "ticks": ""
           },
           "bgcolor": "rgb(17,17,17)",
           "caxis": {
            "gridcolor": "#506784",
            "linecolor": "#506784",
            "ticks": ""
           }
          },
          "title": {
           "x": 0.05
          },
          "updatemenudefaults": {
           "bgcolor": "#506784",
           "borderwidth": 0
          },
          "xaxis": {
           "automargin": true,
           "gridcolor": "#283442",
           "linecolor": "#506784",
           "ticks": "",
           "title": {
            "standoff": 15
           },
           "zerolinecolor": "#283442",
           "zerolinewidth": 2
          },
          "yaxis": {
           "automargin": true,
           "gridcolor": "#283442",
           "linecolor": "#506784",
           "ticks": "",
           "title": {
            "standoff": 15
           },
           "zerolinecolor": "#283442",
           "zerolinewidth": 2
          }
         }
        }
       }
      },
      "text/html": [
       "<div>                            <div id=\"a5a5d2da-57c3-483a-a0d1-711ac41f56ca\" class=\"plotly-graph-div\" style=\"height:525px; width:100%;\"></div>            <script type=\"text/javascript\">                require([\"plotly\"], function(Plotly) {                    window.PLOTLYENV=window.PLOTLYENV || {};                                    if (document.getElementById(\"a5a5d2da-57c3-483a-a0d1-711ac41f56ca\")) {                    Plotly.newPlot(                        \"a5a5d2da-57c3-483a-a0d1-711ac41f56ca\",                        [{\"customdata\": [[26186781, 441324, 0, \"US\"], [10757610, 154392, 10434983, \"India\"], [9204731, 224504, 8176373, \"Brazil\"], [3828183, 106367, 9652, \"United Kingdom\"], [3808348, 72029, 3264611, \"Russia\"], [3255920, 76201, 230612, \"France\"], [2743119, 58319, 150376, \"Spain\"], [2553032, 88516, 2010548, \"Italy\"], [2477463, 25993, 2362415, \"Turkey\"], [2225659, 57163, 1940046, \"Germany\"], [2094884, 53983, 1938322, \"Colombia\"], [1927239, 47974, 1721650, \"Argentina\"], [1864260, 158536, 1412393, \"Mexico\"], [1513385, 37180, 1270467, \"Poland\"], [1453761, 44164, 1299620, \"South Africa\"], [1417999, 57959, 1210051, \"Iran\"], [1261546, 23860, 1054177, \"Ukraine\"], [1138239, 41026, 1052050, \"Peru\"], [1078314, 29998, 873221, \"Indonesia\"], [992075, 14108, 12910, \"Netherlands\"], [984774, 16308, 871917, \"Czechia\"], [782467, 20005, 710699, \"Canada\"], [728743, 18335, 674594, \"Romania\"], [727109, 18452, 681981, \"Chile\"], [720516, 12482, 526411, \"Portugal\"], [710153, 21092, 0, \"Belgium\"], [643435, 4796, 572511, \"Israel\"], [619636, 13047, 592129, \"Iraq\"], [566957, 11591, 0, \"Sweden\"], [546428, 11683, 501252, \"Pakistan\"], [535139, 8127, 479744, \"Bangladesh\"], [525618, 10749, 487551, \"Philippines\"], [521320, 9381, 317600, \"Switzerland\"], [471157, 8275, 449160, \"Morocco\"], [414398, 7721, 392497, \"Austria\"], [395263, 4020, 0, \"Serbia\"], [390166, 5753, 325436, \"Japan\"], [368074, 6375, 359573, \"Saudi Arabia\"], [367586, 12524, 262968, \"Hungary\"], [326855, 4316, 314581, \"Jordan\"], [320379, 5270, 276417, \"Panama\"], [303609, 850, 276958, \"United Arab Emirates\"], [301052, 3082, 180877, \"Lebanon\"], [270959, 2029, 266336, \"Nepal\"], [258111, 3178, 249028, \"Georgia\"], [250828, 14859, 209814, \"Ecuador\"], [249913, 4642, 216052, \"Slovakia\"], [248336, 1718, 235838, \"Belarus\"], [235844, 3046, 204668, \"Kazakhstan\"], [232426, 5027, 224476, \"Croatia\"], [230219, 3132, 223315, \"Azerbaijan\"], [218748, 9045, 187052, \"Bulgaria\"], [216835, 10379, 159222, \"Bolivia\"], [214959, 760, 166049, \"Malaysia\"], [214060, 2666, 157533, \"Dominican Republic\"], [208885, 6754, 157446, \"Tunisia\"], [199156, 2126, 187996, \"Denmark\"], [196547, 3307, 23364, \"Ireland\"], [193276, 2604, 151952, \"Costa Rica\"], [182539, 2803, 129175, \"Lithuania\"], [167026, 3080, 157519, \"Armenia\"], [166473, 3503, 145722, \"Slovenia\"], [165951, 9316, 129636, \"Egypt\"], [165257, 959, 157931, \"Kuwait\"], [159804, 3438, 150090, \"Moldova\"], [159504, 5643, 144595, \"Guatemala\"], [158962, 1833, 148993, \"West Bank and Gaza\"], [156957, 5796, 93764, \"Greece\"], [151335, 248, 145806, \"Qatar\"], [147843, 3610, 60873, \"Honduras\"], [140145, 3131, 125072, \"Burma\"], [137650, 2093, 122862, \"Ethiopia\"], [134326, 1529, 126854, \"Oman\"], [133227, 2718, 108426, \"Paraguay\"], [131242, 1586, 104989, \"Nigeria\"], [126927, 1189, 118887, \"Venezuela\"], [121497, 4679, 94604, \"Bosnia and Herzegovina\"], [118631, 1877, 98706, \"Libya\"], [107339, 2891, 73344, \"Algeria\"], [103057, 375, 98599, \"Bahrain\"], [100773, 1763, 83907, \"Kenya\"], [100063, 4817, 92779, \"China\"], [92693, 2855, 81681, \"North Macedonia\"], [84588, 1412, 80987, \"Kyrgyzstan\"], [78711, 621, 77191, \"Uzbekistan\"], [78508, 1425, 68309, \"Korea, South\"], [78127, 1380, 47424, \"Albania\"], [67010, 416, 61236, \"Ghana\"], [66241, 1195, 54686, \"Latvia\"], [64157, 316, 57159, \"Sri Lanka\"], [62966, 564, 17998, \"Norway\"], [61659, 805, 53527, \"Montenegro\"], [60218, 1498, 52439, \"Kosovo\"], [59536, 29, 59228, \"Singapore\"], [55023, 2400, 47679, \"Afghanistan\"], [54966, 1623, 48711, \"El Salvador\"], [54217, 763, 48000, \"Zambia\"], [50388, 577, 47615, \"Luxembourg\"], [45238, 671, 31000, \"Finland\"], [44208, 419, 33738, \"Estonia\"], [41738, 436, 34683, \"Uruguay\"], [39579, 324, 14179, \"Uganda\"], [38654, 367, 23955, \"Mozambique\"], [33944, 352, 32378, \"Namibia\"], [33388, 1217, 26044, \"Zimbabwe\"], [30876, 199, 2057, \"Cyprus\"], [29617, 462, 28045, \"Cameroon\"], [29380, 1807, 21410, \"Sudan\"], [28818, 909, 26061, \"Australia\"], [28399, 154, 26007, \"Cote d'Ivoire\"], [26686, 214, 20863, \"Cuba\"], [26523, 628, 21970, \"Senegal\"], [23963, 702, 8615, \"Malawi\"], [22771, 671, 15031, \"Congo (Kinshasa)\"], [21293, 134, 17198, \"Botswana\"], [19796, 466, 18035, \"Angola\"], [19618, 77, 12514, \"Thailand\"], [19065, 281, 18215, \"Madagascar\"], [17903, 267, 14960, \"Malta\"], [16635, 422, 15676, \"Mauritania\"], [15841, 52, 14139, \"Maldives\"], [15711, 565, 10478, \"Eswatini\"], [15653, 350, 12043, \"Jamaica\"], [15304, 196, 10087, \"Rwanda\"], [14546, 82, 14208, \"Guinea\"], [14070, 134, 13144, \"Cabo Verde\"], [14048, 921, 7562, \"Syria\"], [13308, 90, 13218, \"Tajikistan\"], [11908, 301, 11309, \"Belize\"], [11533, 245, 9098, \"Haiti\"], [10748, 68, 10260, \"Gabon\"], [10682, 120, 9253, \"Burkina Faso\"], [9937, 101, 9093, \"Andorra\"], [8664, 172, 2552, \"Lesotho\"], [8438, 154, 7671, \"Suriname\"], [8174, 176, 6771, \"Bahamas\"], [8091, 330, 5945, \"Mali\"], [7887, 117, 5846, \"Congo (Brazzaville)\"], [7641, 176, 6591, \"Guyana\"], [7564, 134, 7168, \"Trinidad and Tobago\"], [6253, 169, 4225, \"Nicaragua\"], [6002, 29, 5930, \"Iceland\"], [5932, 63, 5845, \"Djibouti\"], [5516, 86, 5286, \"Equatorial Guinea\"], [5074, 77, 4268, \"Togo\"], [4981, 63, 4885, \"Central African Republic\"], [4784, 130, 3666, \"Somalia\"], [4517, 159, 3755, \"Niger\"], [4090, 128, 3792, \"Gambia\"], [3929, 64, 3613, \"South Sudan\"], [3893, 52, 3421, \"Benin\"], [3593, 79, 2282, \"Sierra Leone\"], [3376, 118, 2464, \"Chad\"], [3025, 67, 2723, \"San Marino\"], [2726, 93, 1731, \"Comoros\"], [2634, 45, 2427, \"Guinea-Bissau\"], [2493, 52, 2352, \"Liechtenstein\"], [2304, 25, 2208, \"New Zealand\"], [2135, 7, 1594, \"Eritrea\"], [2121, 615, 1426, \"Yemen\"], [1939, 84, 1760, \"Liberia\"], [1817, 35, 1457, \"Vietnam\"], [1814, 2, 1358, \"Mongolia\"], [1632, 2, 773, \"Burundi\"], [1545, 14, 1158, \"Barbados\"], [1489, 13, 1257, \"Monaco\"], [1257, 17, 1023, \"Sao Tome and Principe\"], [1205, 4, 1015, \"Seychelles\"], [1195, 13, 618, \"Saint Lucia\"], [911, 8, 830, \"Taiwan*\"], [901, 2, 251, \"Saint Vincent and the Grenadines\"], [859, 1, 814, \"Bhutan\"], [851, 9, 812, \"Papua New Guinea\"], [712, 13, 699, \"Diamond Princess\"], [569, 10, 528, \"Mauritius\"], [509, 21, 183, \"Tanzania\"], [466, 0, 443, \"Cambodia\"], [234, 7, 177, \"Antigua and Barbuda\"], [180, 3, 170, \"Brunei\"], [148, 1, 142, \"Grenada\"], [117, 0, 106, \"Dominica\"], [70, 0, 55, \"Timor-Leste\"], [55, 2, 53, \"Fiji\"], [44, 0, 41, \"Laos\"], [37, 0, 35, \"Saint Kitts and Nevis\"], [27, 0, 15, \"Holy See\"], [17, 0, 10, \"Solomon Islands\"], [9, 2, 7, \"MS Zaandam\"], [4, 0, 4, \"Marshall Islands\"], [2, 0, 2, \"Samoa\"], [1, 0, 1, \"Vanuatu\"], [1, 0, 1, \"Micronesia\"]], \"geo\": \"geo\", \"hovertemplate\": \"<b>%{hovertext}</b><br><br>Confirmed=%{marker.color:,2f}<br>Deaths=%{customdata[1]:,2f}<br>Recovered=%{customdata[2]:,2f}<extra></extra>\", \"hovertext\": [\"US\", \"India\", \"Brazil\", \"United Kingdom\", \"Russia\", \"France\", \"Spain\", \"Italy\", \"Turkey\", \"Germany\", \"Colombia\", \"Argentina\", \"Mexico\", \"Poland\", \"South Africa\", \"Iran\", \"Ukraine\", \"Peru\", \"Indonesia\", \"Netherlands\", \"Czechia\", \"Canada\", \"Romania\", \"Chile\", \"Portugal\", \"Belgium\", \"Israel\", \"Iraq\", \"Sweden\", \"Pakistan\", \"Bangladesh\", \"Philippines\", \"Switzerland\", \"Morocco\", \"Austria\", \"Serbia\", \"Japan\", \"Saudi Arabia\", \"Hungary\", \"Jordan\", \"Panama\", \"United Arab Emirates\", \"Lebanon\", \"Nepal\", \"Georgia\", \"Ecuador\", \"Slovakia\", \"Belarus\", \"Kazakhstan\", \"Croatia\", \"Azerbaijan\", \"Bulgaria\", \"Bolivia\", \"Malaysia\", \"Dominican Republic\", \"Tunisia\", \"Denmark\", \"Ireland\", \"Costa Rica\", \"Lithuania\", \"Armenia\", \"Slovenia\", \"Egypt\", \"Kuwait\", \"Moldova\", \"Guatemala\", \"West Bank and Gaza\", \"Greece\", \"Qatar\", \"Honduras\", \"Burma\", \"Ethiopia\", \"Oman\", \"Paraguay\", \"Nigeria\", \"Venezuela\", \"Bosnia and Herzegovina\", \"Libya\", \"Algeria\", \"Bahrain\", \"Kenya\", \"China\", \"North Macedonia\", \"Kyrgyzstan\", \"Uzbekistan\", \"Korea, South\", \"Albania\", \"Ghana\", \"Latvia\", \"Sri Lanka\", \"Norway\", \"Montenegro\", \"Kosovo\", \"Singapore\", \"Afghanistan\", \"El Salvador\", \"Zambia\", \"Luxembourg\", \"Finland\", \"Estonia\", \"Uruguay\", \"Uganda\", \"Mozambique\", \"Namibia\", \"Zimbabwe\", \"Cyprus\", \"Cameroon\", \"Sudan\", \"Australia\", \"Cote d'Ivoire\", \"Cuba\", \"Senegal\", \"Malawi\", \"Congo (Kinshasa)\", \"Botswana\", \"Angola\", \"Thailand\", \"Madagascar\", \"Malta\", \"Mauritania\", \"Maldives\", \"Eswatini\", \"Jamaica\", \"Rwanda\", \"Guinea\", \"Cabo Verde\", \"Syria\", \"Tajikistan\", \"Belize\", \"Haiti\", \"Gabon\", \"Burkina Faso\", \"Andorra\", \"Lesotho\", \"Suriname\", \"Bahamas\", \"Mali\", \"Congo (Brazzaville)\", \"Guyana\", \"Trinidad and Tobago\", \"Nicaragua\", \"Iceland\", \"Djibouti\", \"Equatorial Guinea\", \"Togo\", \"Central African Republic\", \"Somalia\", \"Niger\", \"Gambia\", \"South Sudan\", \"Benin\", \"Sierra Leone\", \"Chad\", \"San Marino\", \"Comoros\", \"Guinea-Bissau\", \"Liechtenstein\", \"New Zealand\", \"Eritrea\", \"Yemen\", \"Liberia\", \"Vietnam\", \"Mongolia\", \"Burundi\", \"Barbados\", \"Monaco\", \"Sao Tome and Principe\", \"Seychelles\", \"Saint Lucia\", \"Taiwan*\", \"Saint Vincent and the Grenadines\", \"Bhutan\", \"Papua New Guinea\", \"Diamond Princess\", \"Mauritius\", \"Tanzania\", \"Cambodia\", \"Antigua and Barbuda\", \"Brunei\", \"Grenada\", \"Dominica\", \"Timor-Leste\", \"Fiji\", \"Laos\", \"Saint Kitts and Nevis\", \"Holy See\", \"Solomon Islands\", \"MS Zaandam\", \"Marshall Islands\", \"Samoa\", \"Vanuatu\", \"Micronesia\"], \"legendgroup\": \"\", \"locationmode\": \"country names\", \"locations\": [\"US\", \"India\", \"Brazil\", \"United Kingdom\", \"Russia\", \"France\", \"Spain\", \"Italy\", \"Turkey\", \"Germany\", \"Colombia\", \"Argentina\", \"Mexico\", \"Poland\", \"South Africa\", \"Iran\", \"Ukraine\", \"Peru\", \"Indonesia\", \"Netherlands\", \"Czechia\", \"Canada\", \"Romania\", \"Chile\", \"Portugal\", \"Belgium\", \"Israel\", \"Iraq\", \"Sweden\", \"Pakistan\", \"Bangladesh\", \"Philippines\", \"Switzerland\", \"Morocco\", \"Austria\", \"Serbia\", \"Japan\", \"Saudi Arabia\", \"Hungary\", \"Jordan\", \"Panama\", \"United Arab Emirates\", \"Lebanon\", \"Nepal\", \"Georgia\", \"Ecuador\", \"Slovakia\", \"Belarus\", \"Kazakhstan\", \"Croatia\", \"Azerbaijan\", \"Bulgaria\", \"Bolivia\", \"Malaysia\", \"Dominican Republic\", \"Tunisia\", \"Denmark\", \"Ireland\", \"Costa Rica\", \"Lithuania\", \"Armenia\", \"Slovenia\", \"Egypt\", \"Kuwait\", \"Moldova\", \"Guatemala\", \"West Bank and Gaza\", \"Greece\", \"Qatar\", \"Honduras\", \"Burma\", \"Ethiopia\", \"Oman\", \"Paraguay\", \"Nigeria\", \"Venezuela\", \"Bosnia and Herzegovina\", \"Libya\", \"Algeria\", \"Bahrain\", \"Kenya\", \"China\", \"North Macedonia\", \"Kyrgyzstan\", \"Uzbekistan\", \"Korea, South\", \"Albania\", \"Ghana\", \"Latvia\", \"Sri Lanka\", \"Norway\", \"Montenegro\", \"Kosovo\", \"Singapore\", \"Afghanistan\", \"El Salvador\", \"Zambia\", \"Luxembourg\", \"Finland\", \"Estonia\", \"Uruguay\", \"Uganda\", \"Mozambique\", \"Namibia\", \"Zimbabwe\", \"Cyprus\", \"Cameroon\", \"Sudan\", \"Australia\", \"Cote d'Ivoire\", \"Cuba\", \"Senegal\", \"Malawi\", \"Congo (Kinshasa)\", \"Botswana\", \"Angola\", \"Thailand\", \"Madagascar\", \"Malta\", \"Mauritania\", \"Maldives\", \"Eswatini\", \"Jamaica\", \"Rwanda\", \"Guinea\", \"Cabo Verde\", \"Syria\", \"Tajikistan\", \"Belize\", \"Haiti\", \"Gabon\", \"Burkina Faso\", \"Andorra\", \"Lesotho\", \"Suriname\", \"Bahamas\", \"Mali\", \"Congo (Brazzaville)\", \"Guyana\", \"Trinidad and Tobago\", \"Nicaragua\", \"Iceland\", \"Djibouti\", \"Equatorial Guinea\", \"Togo\", \"Central African Republic\", \"Somalia\", \"Niger\", \"Gambia\", \"South Sudan\", \"Benin\", \"Sierra Leone\", \"Chad\", \"San Marino\", \"Comoros\", \"Guinea-Bissau\", \"Liechtenstein\", \"New Zealand\", \"Eritrea\", \"Yemen\", \"Liberia\", \"Vietnam\", \"Mongolia\", \"Burundi\", \"Barbados\", \"Monaco\", \"Sao Tome and Principe\", \"Seychelles\", \"Saint Lucia\", \"Taiwan*\", \"Saint Vincent and the Grenadines\", \"Bhutan\", \"Papua New Guinea\", \"Diamond Princess\", \"Mauritius\", \"Tanzania\", \"Cambodia\", \"Antigua and Barbuda\", \"Brunei\", \"Grenada\", \"Dominica\", \"Timor-Leste\", \"Fiji\", \"Laos\", \"Saint Kitts and Nevis\", \"Holy See\", \"Solomon Islands\", \"MS Zaandam\", \"Marshall Islands\", \"Samoa\", \"Vanuatu\", \"Micronesia\"], \"marker\": {\"color\": [26186781, 10757610, 9204731, 3828183, 3808348, 3255920, 2743119, 2553032, 2477463, 2225659, 2094884, 1927239, 1864260, 1513385, 1453761, 1417999, 1261546, 1138239, 1078314, 992075, 984774, 782467, 728743, 727109, 720516, 710153, 643435, 619636, 566957, 546428, 535139, 525618, 521320, 471157, 414398, 395263, 390166, 368074, 367586, 326855, 320379, 303609, 301052, 270959, 258111, 250828, 249913, 248336, 235844, 232426, 230219, 218748, 216835, 214959, 214060, 208885, 199156, 196547, 193276, 182539, 167026, 166473, 165951, 165257, 159804, 159504, 158962, 156957, 151335, 147843, 140145, 137650, 134326, 133227, 131242, 126927, 121497, 118631, 107339, 103057, 100773, 100063, 92693, 84588, 78711, 78508, 78127, 67010, 66241, 64157, 62966, 61659, 60218, 59536, 55023, 54966, 54217, 50388, 45238, 44208, 41738, 39579, 38654, 33944, 33388, 30876, 29617, 29380, 28818, 28399, 26686, 26523, 23963, 22771, 21293, 19796, 19618, 19065, 17903, 16635, 15841, 15711, 15653, 15304, 14546, 14070, 14048, 13308, 11908, 11533, 10748, 10682, 9937, 8664, 8438, 8174, 8091, 7887, 7641, 7564, 6253, 6002, 5932, 5516, 5074, 4981, 4784, 4517, 4090, 3929, 3893, 3593, 3376, 3025, 2726, 2634, 2493, 2304, 2135, 2121, 1939, 1817, 1814, 1632, 1545, 1489, 1257, 1205, 1195, 911, 901, 859, 851, 712, 569, 509, 466, 234, 180, 148, 117, 70, 55, 44, 37, 27, 17, 9, 4, 2, 1, 1], \"coloraxis\": \"coloraxis\", \"size\": [26186781, 10757610, 9204731, 3828183, 3808348, 3255920, 2743119, 2553032, 2477463, 2225659, 2094884, 1927239, 1864260, 1513385, 1453761, 1417999, 1261546, 1138239, 1078314, 992075, 984774, 782467, 728743, 727109, 720516, 710153, 643435, 619636, 566957, 546428, 535139, 525618, 521320, 471157, 414398, 395263, 390166, 368074, 367586, 326855, 320379, 303609, 301052, 270959, 258111, 250828, 249913, 248336, 235844, 232426, 230219, 218748, 216835, 214959, 214060, 208885, 199156, 196547, 193276, 182539, 167026, 166473, 165951, 165257, 159804, 159504, 158962, 156957, 151335, 147843, 140145, 137650, 134326, 133227, 131242, 126927, 121497, 118631, 107339, 103057, 100773, 100063, 92693, 84588, 78711, 78508, 78127, 67010, 66241, 64157, 62966, 61659, 60218, 59536, 55023, 54966, 54217, 50388, 45238, 44208, 41738, 39579, 38654, 33944, 33388, 30876, 29617, 29380, 28818, 28399, 26686, 26523, 23963, 22771, 21293, 19796, 19618, 19065, 17903, 16635, 15841, 15711, 15653, 15304, 14546, 14070, 14048, 13308, 11908, 11533, 10748, 10682, 9937, 8664, 8438, 8174, 8091, 7887, 7641, 7564, 6253, 6002, 5932, 5516, 5074, 4981, 4784, 4517, 4090, 3929, 3893, 3593, 3376, 3025, 2726, 2634, 2493, 2304, 2135, 2121, 1939, 1817, 1814, 1632, 1545, 1489, 1257, 1205, 1195, 911, 901, 859, 851, 712, 569, 509, 466, 234, 180, 148, 117, 70, 55, 44, 37, 27, 17, 9, 4, 2, 1, 1], \"sizemode\": \"area\", \"sizeref\": 21376.964081632654, \"symbol\": \"circle\"}, \"mode\": \"markers\", \"name\": \"\", \"showlegend\": false, \"type\": \"scattergeo\"}],                        {\"coloraxis\": {\"colorbar\": {\"title\": {\"text\": \"Confirmed\"}}, \"colorscale\": [[0.0, \"#0d0887\"], [0.1111111111111111, \"#46039f\"], [0.2222222222222222, \"#7201a8\"], [0.3333333333333333, \"#9c179e\"], [0.4444444444444444, \"#bd3786\"], [0.5555555555555556, \"#d8576b\"], [0.6666666666666666, \"#ed7953\"], [0.7777777777777778, \"#fb9f3a\"], [0.8888888888888888, \"#fdca26\"], [1.0, \"#f0f921\"]]}, \"geo\": {\"center\": {}, \"domain\": {\"x\": [0.0, 1.0], \"y\": [0.0, 1.0]}}, \"legend\": {\"itemsizing\": \"constant\", \"tracegroupgap\": 0}, \"margin\": {\"t\": 60}, \"template\": {\"data\": {\"bar\": [{\"error_x\": {\"color\": \"#f2f5fa\"}, \"error_y\": {\"color\": \"#f2f5fa\"}, \"marker\": {\"line\": {\"color\": \"rgb(17,17,17)\", \"width\": 0.5}}, \"type\": \"bar\"}], \"barpolar\": [{\"marker\": {\"line\": {\"color\": \"rgb(17,17,17)\", \"width\": 0.5}}, \"type\": \"barpolar\"}], \"carpet\": [{\"aaxis\": {\"endlinecolor\": \"#A2B1C6\", \"gridcolor\": \"#506784\", \"linecolor\": \"#506784\", \"minorgridcolor\": \"#506784\", \"startlinecolor\": \"#A2B1C6\"}, \"baxis\": {\"endlinecolor\": \"#A2B1C6\", \"gridcolor\": \"#506784\", \"linecolor\": \"#506784\", \"minorgridcolor\": \"#506784\", \"startlinecolor\": \"#A2B1C6\"}, \"type\": \"carpet\"}], \"choropleth\": [{\"colorbar\": {\"outlinewidth\": 0, \"ticks\": \"\"}, \"type\": \"choropleth\"}], \"contour\": [{\"colorbar\": {\"outlinewidth\": 0, \"ticks\": \"\"}, \"colorscale\": [[0.0, \"#0d0887\"], [0.1111111111111111, \"#46039f\"], [0.2222222222222222, \"#7201a8\"], [0.3333333333333333, \"#9c179e\"], [0.4444444444444444, \"#bd3786\"], [0.5555555555555556, \"#d8576b\"], [0.6666666666666666, \"#ed7953\"], [0.7777777777777778, \"#fb9f3a\"], [0.8888888888888888, \"#fdca26\"], [1.0, \"#f0f921\"]], \"type\": \"contour\"}], \"contourcarpet\": [{\"colorbar\": {\"outlinewidth\": 0, \"ticks\": \"\"}, \"type\": \"contourcarpet\"}], \"heatmap\": [{\"colorbar\": {\"outlinewidth\": 0, \"ticks\": \"\"}, \"colorscale\": [[0.0, \"#0d0887\"], [0.1111111111111111, \"#46039f\"], [0.2222222222222222, \"#7201a8\"], [0.3333333333333333, \"#9c179e\"], [0.4444444444444444, \"#bd3786\"], [0.5555555555555556, \"#d8576b\"], [0.6666666666666666, \"#ed7953\"], [0.7777777777777778, \"#fb9f3a\"], [0.8888888888888888, \"#fdca26\"], [1.0, \"#f0f921\"]], \"type\": \"heatmap\"}], \"heatmapgl\": [{\"colorbar\": {\"outlinewidth\": 0, \"ticks\": \"\"}, \"colorscale\": [[0.0, \"#0d0887\"], [0.1111111111111111, \"#46039f\"], [0.2222222222222222, \"#7201a8\"], [0.3333333333333333, \"#9c179e\"], [0.4444444444444444, \"#bd3786\"], [0.5555555555555556, \"#d8576b\"], [0.6666666666666666, \"#ed7953\"], [0.7777777777777778, \"#fb9f3a\"], [0.8888888888888888, \"#fdca26\"], [1.0, \"#f0f921\"]], \"type\": \"heatmapgl\"}], \"histogram\": [{\"marker\": {\"colorbar\": {\"outlinewidth\": 0, \"ticks\": \"\"}}, \"type\": \"histogram\"}], \"histogram2d\": [{\"colorbar\": {\"outlinewidth\": 0, \"ticks\": \"\"}, \"colorscale\": [[0.0, \"#0d0887\"], [0.1111111111111111, \"#46039f\"], [0.2222222222222222, \"#7201a8\"], [0.3333333333333333, \"#9c179e\"], [0.4444444444444444, \"#bd3786\"], [0.5555555555555556, \"#d8576b\"], [0.6666666666666666, \"#ed7953\"], [0.7777777777777778, \"#fb9f3a\"], [0.8888888888888888, \"#fdca26\"], [1.0, \"#f0f921\"]], \"type\": \"histogram2d\"}], \"histogram2dcontour\": [{\"colorbar\": {\"outlinewidth\": 0, \"ticks\": \"\"}, \"colorscale\": [[0.0, \"#0d0887\"], [0.1111111111111111, \"#46039f\"], [0.2222222222222222, \"#7201a8\"], [0.3333333333333333, \"#9c179e\"], [0.4444444444444444, \"#bd3786\"], [0.5555555555555556, \"#d8576b\"], [0.6666666666666666, \"#ed7953\"], [0.7777777777777778, \"#fb9f3a\"], [0.8888888888888888, \"#fdca26\"], [1.0, \"#f0f921\"]], \"type\": \"histogram2dcontour\"}], \"mesh3d\": [{\"colorbar\": {\"outlinewidth\": 0, \"ticks\": \"\"}, \"type\": \"mesh3d\"}], \"parcoords\": [{\"line\": {\"colorbar\": {\"outlinewidth\": 0, \"ticks\": \"\"}}, \"type\": \"parcoords\"}], \"pie\": [{\"automargin\": true, \"type\": \"pie\"}], \"scatter\": [{\"marker\": {\"line\": {\"color\": \"#283442\"}}, \"type\": \"scatter\"}], \"scatter3d\": [{\"line\": {\"colorbar\": {\"outlinewidth\": 0, \"ticks\": \"\"}}, \"marker\": {\"colorbar\": {\"outlinewidth\": 0, \"ticks\": \"\"}}, \"type\": \"scatter3d\"}], \"scattercarpet\": [{\"marker\": {\"colorbar\": {\"outlinewidth\": 0, \"ticks\": \"\"}}, \"type\": \"scattercarpet\"}], \"scattergeo\": [{\"marker\": {\"colorbar\": {\"outlinewidth\": 0, \"ticks\": \"\"}}, \"type\": \"scattergeo\"}], \"scattergl\": [{\"marker\": {\"line\": {\"color\": \"#283442\"}}, \"type\": \"scattergl\"}], \"scattermapbox\": [{\"marker\": {\"colorbar\": {\"outlinewidth\": 0, \"ticks\": \"\"}}, \"type\": \"scattermapbox\"}], \"scatterpolar\": [{\"marker\": {\"colorbar\": {\"outlinewidth\": 0, \"ticks\": \"\"}}, \"type\": \"scatterpolar\"}], \"scatterpolargl\": [{\"marker\": {\"colorbar\": {\"outlinewidth\": 0, \"ticks\": \"\"}}, \"type\": \"scatterpolargl\"}], \"scatterternary\": [{\"marker\": {\"colorbar\": {\"outlinewidth\": 0, \"ticks\": \"\"}}, \"type\": \"scatterternary\"}], \"surface\": [{\"colorbar\": {\"outlinewidth\": 0, \"ticks\": \"\"}, \"colorscale\": [[0.0, \"#0d0887\"], [0.1111111111111111, \"#46039f\"], [0.2222222222222222, \"#7201a8\"], [0.3333333333333333, \"#9c179e\"], [0.4444444444444444, \"#bd3786\"], [0.5555555555555556, \"#d8576b\"], [0.6666666666666666, \"#ed7953\"], [0.7777777777777778, \"#fb9f3a\"], [0.8888888888888888, \"#fdca26\"], [1.0, \"#f0f921\"]], \"type\": \"surface\"}], \"table\": [{\"cells\": {\"fill\": {\"color\": \"#506784\"}, \"line\": {\"color\": \"rgb(17,17,17)\"}}, \"header\": {\"fill\": {\"color\": \"#2a3f5f\"}, \"line\": {\"color\": \"rgb(17,17,17)\"}}, \"type\": \"table\"}]}, \"layout\": {\"annotationdefaults\": {\"arrowcolor\": \"#f2f5fa\", \"arrowhead\": 0, \"arrowwidth\": 1}, \"autotypenumbers\": \"strict\", \"coloraxis\": {\"colorbar\": {\"outlinewidth\": 0, \"ticks\": \"\"}}, \"colorscale\": {\"diverging\": [[0, \"#8e0152\"], [0.1, \"#c51b7d\"], [0.2, \"#de77ae\"], [0.3, \"#f1b6da\"], [0.4, \"#fde0ef\"], [0.5, \"#f7f7f7\"], [0.6, \"#e6f5d0\"], [0.7, \"#b8e186\"], [0.8, \"#7fbc41\"], [0.9, \"#4d9221\"], [1, \"#276419\"]], \"sequential\": [[0.0, \"#0d0887\"], [0.1111111111111111, \"#46039f\"], [0.2222222222222222, \"#7201a8\"], [0.3333333333333333, \"#9c179e\"], [0.4444444444444444, \"#bd3786\"], [0.5555555555555556, \"#d8576b\"], [0.6666666666666666, \"#ed7953\"], [0.7777777777777778, \"#fb9f3a\"], [0.8888888888888888, \"#fdca26\"], [1.0, \"#f0f921\"]], \"sequentialminus\": [[0.0, \"#0d0887\"], [0.1111111111111111, \"#46039f\"], [0.2222222222222222, \"#7201a8\"], [0.3333333333333333, \"#9c179e\"], [0.4444444444444444, \"#bd3786\"], [0.5555555555555556, \"#d8576b\"], [0.6666666666666666, \"#ed7953\"], [0.7777777777777778, \"#fb9f3a\"], [0.8888888888888888, \"#fdca26\"], [1.0, \"#f0f921\"]]}, \"colorway\": [\"#636efa\", \"#EF553B\", \"#00cc96\", \"#ab63fa\", \"#FFA15A\", \"#19d3f3\", \"#FF6692\", \"#B6E880\", \"#FF97FF\", \"#FECB52\"], \"font\": {\"color\": \"#f2f5fa\"}, \"geo\": {\"bgcolor\": \"rgb(17,17,17)\", \"lakecolor\": \"rgb(17,17,17)\", \"landcolor\": \"rgb(17,17,17)\", \"showlakes\": true, \"showland\": true, \"subunitcolor\": \"#506784\"}, \"hoverlabel\": {\"align\": \"left\"}, \"hovermode\": \"closest\", \"mapbox\": {\"style\": \"dark\"}, \"paper_bgcolor\": \"rgb(17,17,17)\", \"plot_bgcolor\": \"rgb(17,17,17)\", \"polar\": {\"angularaxis\": {\"gridcolor\": \"#506784\", \"linecolor\": \"#506784\", \"ticks\": \"\"}, \"bgcolor\": \"rgb(17,17,17)\", \"radialaxis\": {\"gridcolor\": \"#506784\", \"linecolor\": \"#506784\", \"ticks\": \"\"}}, \"scene\": {\"xaxis\": {\"backgroundcolor\": \"rgb(17,17,17)\", \"gridcolor\": \"#506784\", \"gridwidth\": 2, \"linecolor\": \"#506784\", \"showbackground\": true, \"ticks\": \"\", \"zerolinecolor\": \"#C8D4E3\"}, \"yaxis\": {\"backgroundcolor\": \"rgb(17,17,17)\", \"gridcolor\": \"#506784\", \"gridwidth\": 2, \"linecolor\": \"#506784\", \"showbackground\": true, \"ticks\": \"\", \"zerolinecolor\": \"#C8D4E3\"}, \"zaxis\": {\"backgroundcolor\": \"rgb(17,17,17)\", \"gridcolor\": \"#506784\", \"gridwidth\": 2, \"linecolor\": \"#506784\", \"showbackground\": true, \"ticks\": \"\", \"zerolinecolor\": \"#C8D4E3\"}}, \"shapedefaults\": {\"line\": {\"color\": \"#f2f5fa\"}}, \"sliderdefaults\": {\"bgcolor\": \"#C8D4E3\", \"bordercolor\": \"rgb(17,17,17)\", \"borderwidth\": 1, \"tickwidth\": 0}, \"ternary\": {\"aaxis\": {\"gridcolor\": \"#506784\", \"linecolor\": \"#506784\", \"ticks\": \"\"}, \"baxis\": {\"gridcolor\": \"#506784\", \"linecolor\": \"#506784\", \"ticks\": \"\"}, \"bgcolor\": \"rgb(17,17,17)\", \"caxis\": {\"gridcolor\": \"#506784\", \"linecolor\": \"#506784\", \"ticks\": \"\"}}, \"title\": {\"x\": 0.05}, \"updatemenudefaults\": {\"bgcolor\": \"#506784\", \"borderwidth\": 0}, \"xaxis\": {\"automargin\": true, \"gridcolor\": \"#283442\", \"linecolor\": \"#506784\", \"ticks\": \"\", \"title\": {\"standoff\": 15}, \"zerolinecolor\": \"#283442\", \"zerolinewidth\": 2}, \"yaxis\": {\"automargin\": true, \"gridcolor\": \"#283442\", \"linecolor\": \"#506784\", \"ticks\": \"\", \"title\": {\"standoff\": 15}, \"zerolinecolor\": \"#283442\", \"zerolinewidth\": 2}}}},                        {\"responsive\": true}                    ).then(function(){\n",
       "                            \n",
       "var gd = document.getElementById('a5a5d2da-57c3-483a-a0d1-711ac41f56ca');\n",
       "var x = new MutationObserver(function (mutations, observer) {{\n",
       "        var display = window.getComputedStyle(gd).display;\n",
       "        if (!display || display === 'none') {{\n",
       "            console.log([gd, 'removed!']);\n",
       "            Plotly.purge(gd);\n",
       "            observer.disconnect();\n",
       "        }}\n",
       "}});\n",
       "\n",
       "// Listen for the removal of the full notebook cells\n",
       "var notebookContainer = gd.closest('#notebook-container');\n",
       "if (notebookContainer) {{\n",
       "    x.observe(notebookContainer, {childList: true});\n",
       "}}\n",
       "\n",
       "// Listen for the clearing of the current output cell\n",
       "var outputEl = gd.closest('.output');\n",
       "if (outputEl) {{\n",
       "    x.observe(outputEl, {childList: true});\n",
       "}}\n",
       "\n",
       "                        })                };                });            </script>        </div>"
      ]
     },
     "metadata": {},
     "output_type": "display_data"
    }
   ],
   "source": [
    "import plotly.express as px\n",
    "from data import countries_df\n",
    "\n",
    "\n",
    "fig = px.scatter_geo(countries_df, size=\"Confirmed\", \n",
    "                     hover_data={\"Confirmed\":\":,2f\",\"Deaths\":\":,2f\",\"Recovered\":\":,2f\", \"Country_Region\": False}, \n",
    "                     hover_name=\"Country_Region\", \n",
    "                     color=\"Confirmed\", \n",
    "                     locations=\"Country_Region\", \n",
    "                     locationmode=\"country names\",\n",
    "                     size_max=35,\n",
    "                     template=\"plotly_dark\")\n",
    "fig.show()\n"
   ]
  }
 ],
 "metadata": {
  "kernelspec": {
   "display_name": "Python 3",
   "language": "python",
   "name": "python3"
  },
  "language_info": {
   "codemirror_mode": {
    "name": "ipython",
    "version": 3
   },
   "file_extension": ".py",
   "mimetype": "text/x-python",
   "name": "python",
   "nbconvert_exporter": "python",
   "pygments_lexer": "ipython3",
   "version": "3.9.1"
  }
 },
 "nbformat": 4,
 "nbformat_minor": 5
}
